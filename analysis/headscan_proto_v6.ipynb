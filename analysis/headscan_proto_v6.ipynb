{
 "cells": [
  {
   "cell_type": "code",
   "execution_count": 1,
   "metadata": {},
   "outputs": [],
   "source": [
    "import json\n",
    "import speckle_fcns_v6 as fcns\n",
    "import matplotlib.pyplot as plt\n",
    "import numpy as np\n",
    "from tkinter.filedialog import askdirectory\n",
    "\n",
    "plt.close('all')"
   ]
  },
  {
   "cell_type": "code",
   "execution_count": 2,
   "metadata": {},
   "outputs": [],
   "source": [
    "### user input ###\n",
    "datapath = 'C:/data/BloodFlow/HHC'\n",
    "scannerName = 'fessenden'\n",
    "scanorder = 'zigzag' #'circle'"
   ]
  },
  {
   "cell_type": "code",
   "execution_count": 3,
   "metadata": {},
   "outputs": [],
   "source": [
    "#########################################\n",
    "###### do not modify below ##############\n",
    "#########################################"
   ]
  },
  {
   "cell_type": "code",
   "execution_count": 4,
   "metadata": {},
   "outputs": [],
   "source": [
    "calname = askdirectory(title='Select Calibration', initialdir=datapath)\n",
    "scanname = askdirectory(title='Select Scan', initialdir=datapath) "
   ]
  },
  {
   "cell_type": "code",
   "execution_count": 5,
   "metadata": {},
   "outputs": [],
   "source": [
    "### data and algo parameters ###\n",
    "if scanorder == 'zigzag':\n",
    "    col = np.array([0, 0, 1, 1, 2, 2, 3, 3, 4, 4, 5, 5])\n",
    "    row = np.array([0, 1, 0, 1, 0, 1, 0, 1, 0, 1, 0, 1])\n",
    "    theta = 3.14*np.array([-0.85, 0.85, -0.7, 0.7, -0.55, 0.55, -0.42, 0.42, -0.28, 0.28, -0.12, 0.12])\n",
    "elif scanorder == 'circle':\n",
    "    col = np.array([0, 1, 2, 3, 4, 5, 5, 4, 3, 2, 1, 0])\n",
    "    row = np.array([0, 0, 0, 0, 0, 0, 1, 1, 1, 1, 1, 1])\n",
    "    theta = 3.14*np.array([-0.85, -0.7, -0.55, -0.42, -0.28, -0.12, 0.12, 0.28, 0.42, 0.55, 0.7, 0.85])\n",
    "\n",
    "data_dict = { \n",
    "    'calname':  calname,\n",
    "    'dataname': scanname, \n",
    "    'col': col, \n",
    "    'row': row,\n",
    "    'theta': theta,\n",
    "    'npositions': 12,  #must be even\n",
    "    #'nstart': 0,\n",
    "    #'nstop': 40,\n",
    "    #'K': .12\n",
    "    }\n",
    "    \n",
    "params_dict = {\n",
    "    'n': 1.4,      # index of refraction\n",
    "    'wv': np.array([8.5e-4]),    # wavelength, mm\n",
    "    'mua': np.array([0.09]),   # absorption coefficient, mm^-1\n",
    "    'musp': np.array([1.2]),     # reduced scattering coefficient, mm^-1\n",
    "    'Db': 1e-6,    # diffusion coefficient of the scatterers, mm^2/s\n",
    "    'dV2': 1,      # mean squared velocity of the scatterers, (mm/s)^2\n",
    "    'Tmax': 1e-3,  # maximum exposure time being simulated, s\n",
    "    'dtau': 1e-7,  # discretization of time step length, s\n",
    "    'zb': 0.1,     # extrapolated boundary\n",
    "    'cameras2use': np.array([0, 1, 2, 3]),\n",
    "    'fitbeta': 0,\n",
    "    'beta': 0.25\n",
    "    #'dcontrast': np.array([0.4, 0, 0, 0]),\n",
    "    #'betas': np.array([0.25, 0.25, 0.25, 0.5])\n",
    "    }"
   ]
  },
  {
   "cell_type": "code",
   "execution_count": 6,
   "metadata": {},
   "outputs": [],
   "source": [
    "### load json file ###\n",
    "with open(data_dict.get('dataname') + '/scan_metadata.json') as json_file:\n",
    "    json_dict = json.load(json_file) \n",
    "nrho   = json_dict.get('cameraParameters').get('numCameras')\n",
    "scannerCameras = list(json_dict.get('cameraParameters').get('cameraInfo').keys())\n",
    "for i in range(len(scannerCameras)):\n",
    "    if scannerCameras[i] == scannerName:\n",
    "        cids = list(json_dict.get('cameraParameters').get('cameraInfo').keys())[i+1:i+5]\n",
    "gain = np.zeros((4,))\n",
    "rho = np.zeros((4,))\n",
    "for i in range(4):\n",
    "    gain[i]=json_dict.get('cameraParameters').get('cameraInfo').get(cids[i]).get('gain') \n",
    "    rho[i]=json_dict.get('cameraParameters').get('cameraInfo').get(cids[i]).get('separation_mm')\n",
    "data_dict['gain'] = gain\n",
    "data_dict['rho'] = rho\n",
    "params_dict['rho'] = rho\n",
    "nt   = json_dict.get('cameraParameters').get('numImages')\n",
    "exp = np.array([json_dict.get('delayParameters').get('pulseWidth_s')])\n",
    "params_dict['exp']=exp\n",
    "nexp = len(exp)\n",
    "dt = 2/json_dict.get('cameraParameters').get('frameAcquisitionRate_Hz')"
   ]
  },
  {
   "cell_type": "code",
   "execution_count": 7,
   "metadata": {},
   "outputs": [],
   "source": [
    "### load calibration data ###\n",
    "caldata = fcns.read_bloodflow_protocsv2(data_dict.get('calname') + '/data.csv')\n",
    "caldata = fcns.sortbycamera_proto2(caldata, cids, 2*nt)\n",
    "caldata = fcns.removedark2(caldata)\n",
    "caldata = fcns.averagetimeseries_proto(caldata)\n",
    "params_dict['I0'] = caldata['mean_mean']"
   ]
  },
  {
   "cell_type": "code",
   "execution_count": 8,
   "metadata": {},
   "outputs": [],
   "source": [
    "### load data ###\n",
    "npositions = data_dict.get('npositions', 12)    \n",
    "data = [{}] * npositions    \n",
    "for i in range(npositions): \n",
    "    data[i] = fcns.read_bloodflow_protocsv2(data_dict.get('dataname') + '/location_' + str(i+1) + '.csv')\n",
    "    data[i] = fcns.sortbycamera_proto2(data[i], cids, 2*nt)\n",
    "    data[i] = fcns.removedark2(data[i])\n",
    "    if ('nstart' in data_dict.keys()) or ('nstop' in data_dict.keys()):\n",
    "        data[i] = fcns.croptime_proto(data[i], data_dict)\n",
    "        print('cropping')\n",
    "    data[i] = fcns.getpulse(data[i], data_dict, dt)"
   ]
  },
  {
   "cell_type": "code",
   "execution_count": 9,
   "metadata": {},
   "outputs": [],
   "source": [
    "### average data ###\n",
    "for i in range(npositions):\n",
    "    data[i]=fcns.averagetimeseries_proto(data[i])\n",
    "    data[i]=fcns.getridofzeros(data[i])"
   ]
  },
  {
   "cell_type": "code",
   "execution_count": 10,
   "metadata": {},
   "outputs": [],
   "source": [
    "### plot data ###\n",
    "%matplotlib qt\n",
    "fcns.plotscandata(data, data_dict, 'pcontrast')\n",
    "fcns.showResult(data, data_dict, 'pulse')\n",
    "fcns.plotscandataintime(data, data_dict)    \n",
    "fcns.plotscandata(data, data_dict, 'mean')\n",
    "fcns.plotscandata(data, data_dict, 'std')\n",
    "fcns.plotscandata(data, data_dict, 'contrast')\n",
    "fcns.showAverageData(data, data_dict, 'mean_mean')\n",
    "fcns.showAverageData(data, data_dict, 'std_mean')\n",
    "fcns.showAverageData(data, data_dict, 'contrast_mean')"
   ]
  },
  {
   "cell_type": "code",
   "execution_count": 11,
   "metadata": {},
   "outputs": [],
   "source": [
    "################################\n",
    "##### fit for parameter(s) #####\n",
    "################################"
   ]
  },
  {
   "cell_type": "code",
   "execution_count": 12,
   "metadata": {},
   "outputs": [],
   "source": [
    "### attenuation ###\n",
    "### define independent variables\n",
    "c2u = params_dict.get('cameras2use')        \n",
    "p = np.squeeze(params_dict['rho'])[c2u]\n",
    "pp = np.linspace(np.amin(p), np.amax(p))\n",
    "pp2 = np.linspace(0, np.amax(p))\n",
    "exp = params_dict['exp']\n",
    "expp = np.array([params_dict['exp'][0]])\n",
    "\n",
    "### calibrate intensity ###\n",
    "ci = fcns.getIntensityCalibration(params_dict)\n",
    "for i in range(npositions):\n",
    "    data[i]['mean'] *= ci\n",
    "    data[i]['mean_mean'] *= ci\n",
    "    data[i]['std'] *= ci\n",
    "    data[i]['std_mean'] *= ci\n",
    "\n",
    "### find mu_eff & mua ###\n",
    "mean = np.zeros((npositions, len(c2u), 1))\n",
    "std = np.zeros((npositions, len(c2u), 1))\n",
    "for i in range(npositions):\n",
    "    mean[i, :, 0]  = data[i]['mean_mean'][c2u]\n",
    "    std[i, :, 0] = data[i]['std_mean'][c2u]\n",
    "mu_eff, mua   = fcns.fitattenuation(mean,  p, pp, params_dict['musp'], std)\n",
    "for i in range(npositions):\n",
    "    data[i]['mu_eff'] = mu_eff[i]\n",
    "    data[i]['mua'] = mua[i]\n",
    "fcns.showResult(data, data_dict, 'mu_eff')\n",
    "fcns.showResult(data, data_dict, 'mua')"
   ]
  },
  {
   "cell_type": "code",
   "execution_count": 13,
   "metadata": {},
   "outputs": [],
   "source": [
    "### flow ###\n",
    "### define independent variables\n",
    "params_dict['C0']=data[0]['contrast_mean'] # relative BFI only\n",
    "params_dict['mua']=data[0]['mua']\n",
    "params_dict['cameras2use'] = np.array([1, 2, 3]) #punting on 35 mm camera for now\n",
    "c2u = params_dict.get('cameras2use')\n",
    "p = np.squeeze(params_dict['rho'])[c2u]\n",
    "pp = np.linspace(np.amin(p), np.amax(p))\n",
    "pp2 = np.linspace(0, np.amax(p))\n",
    "\n",
    "### calibrate contrast ###\n",
    "cc = fcns.getContrastCalibration(params_dict) \n",
    "for i in range(npositions):   \n",
    "    data[i]['contrast'] *= cc\n",
    "    data[i]['contrast_mean'] *= cc\n",
    "\n",
    "### find alpha*Db ###\n",
    "contrast = np.zeros((npositions, len(c2u), 1))\n",
    "for i in range(npositions):\n",
    "    contrast[i, :, 0] = data[i]['contrast_mean'][c2u]\n",
    "alphaDb, beta, offset    = fcns.fitflow_multi(params_dict, contrast,  p, pp2, exp, expp, mua)  #using 1st mua\n",
    "for i in range(npositions):\n",
    "    data[i]['rCBF'] = alphaDb[i]\n",
    "fcns.showResult(data, data_dict, 'rCBF') "
   ]
  },
  {
   "cell_type": "code",
   "execution_count": null,
   "metadata": {},
   "outputs": [],
   "source": []
  }
 ],
 "metadata": {
  "kernelspec": {
   "display_name": "Python 3",
   "language": "python",
   "name": "python3"
  },
  "language_info": {
   "codemirror_mode": {
    "name": "ipython",
    "version": 3
   },
   "file_extension": ".py",
   "mimetype": "text/x-python",
   "name": "python",
   "nbconvert_exporter": "python",
   "pygments_lexer": "ipython3",
   "version": "3.7.3"
  }
 },
 "nbformat": 4,
 "nbformat_minor": 2
}
