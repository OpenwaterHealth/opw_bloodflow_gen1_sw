{
 "cells": [
  {
   "cell_type": "code",
   "execution_count": null,
   "metadata": {},
   "outputs": [],
   "source": [
    "import speckle_fcns_v7 as fcns\n",
    "import matplotlib.pyplot as plt\n",
    "import numpy as np\n",
    "import json\n",
    "import os\n",
    "import sys\n",
    "from tkinter import Tk\n",
    "from tkinter.filedialog import askdirectory\n",
    "\n",
    "# bring file selection dialog to front\n",
    "root = Tk()\n",
    "root.withdraw()\n",
    "root.call('wm', 'attributes', '.', '-topmost', True)\n",
    "\n",
    "import ipywidgets as widgets\n",
    "#%matplotlib widget\n",
    "%matplotlib qt\n",
    "\n",
    "plt.close('all')"
   ]
  },
  {
   "cell_type": "code",
   "execution_count": null,
   "metadata": {},
   "outputs": [],
   "source": [
    "### specify directory to seach for data (not needed for scanning computers) ###\n",
    "scannername = 'strickland' #'strickland' #'franklin' #'strickland'\n",
    "datapath = 'S:/Schrodinger' #'S:/Franklin' #'S:/Strickland'\n",
    "if sys.platform == 'Darwin':\n",
    "    datapath = '~/aws/S3/owi-scan-data/Schrodinger' #'S:/Franklin' #'S:/Strickland'\n",
    "if os.getlogin().lower() == 'lab': \n",
    "    scannername = os.environ['COMPUTERNAME'].lower()\n",
    "    datapath = 'C:/data_scans/' + scannername\n",
    "scanorder = 'hhc30' #'hhc30' #'generic30' #'zigzag' #'circle'"
   ]
  },
  {
   "cell_type": "code",
   "execution_count": null,
   "metadata": {},
   "outputs": [],
   "source": [
    "#########################################\n",
    "###### do not modify below ##############\n",
    "#########################################"
   ]
  },
  {
   "cell_type": "code",
   "execution_count": null,
   "metadata": {},
   "outputs": [],
   "source": [
    "scanname = askdirectory(title='Select Scan', initialdir=datapath)\n",
    "with open(scanname + '/scan_metadata.json') as json_file:\n",
    "    json_dict = json.load(json_file)\n",
    "if not (json_dict.get('cameraParameters').get('calibrationFolder') is None):\n",
    "    calname = json_dict.get('cameraParameters').get('calibrationFolder')\n",
    "    if calname == '':\n",
    "        calname = askdirectory(title='Select Calibration', initialdir=datapath)\n",
    "    elif scanname[:scanname.rindex('/')] != calname[:calname.rindex('/')]:\n",
    "        calname = scanname[:scanname.rindex('/')] + calname[calname.rindex('/'):]\n",
    "    if (not os.path.exists(calname)):\n",
    "        calname = askdirectory(title='Select Calibration', initialdir=datapath)    \n",
    "else:\n",
    "    calname = askdirectory(title='Select Calibration', initialdir=datapath)"
   ]
  },
  {
   "cell_type": "code",
   "execution_count": null,
   "metadata": {},
   "outputs": [],
   "source": [
    "### data and algo parameters ###\n",
    "data_dict = fcns.getdatadictionary(scanorder, calname, scanname, scannername)\n",
    "params_dict = fcns.getparamsdictionary(False)\n",
    "data_dict, params_dict = fcns.getjsoninfo(data_dict, params_dict)\n",
    "data_dict['scanorder'] = scanorder"
   ]
  },
  {
   "cell_type": "code",
   "execution_count": null,
   "metadata": {},
   "outputs": [],
   "source": [
    "### load calibration data ###\n",
    "caldata = fcns.read_bloodflow_protocsv2(data_dict.get('calname') + '/data.csv')\n",
    "caldata = fcns.sortbycamera_proto2(caldata, data_dict['cids'], 2*data_dict['nt'])\n",
    "caldata = fcns.removedark2(caldata, data_dict)\n",
    "caldata = fcns.averagetimeseries_proto(caldata)\n",
    "params_dict['I0'] = caldata['mean_mean']"
   ]
  },
  {
   "cell_type": "code",
   "execution_count": null,
   "metadata": {},
   "outputs": [],
   "source": [
    "### read log file ###\n",
    "npositions = data_dict.get('npositions', 30)\n",
    "completedscan, nattempts = fcns.readlogfile(data_dict.get('dataname') + '/log.txt', npositions)"
   ]
  },
  {
   "cell_type": "code",
   "execution_count": null,
   "metadata": {},
   "outputs": [],
   "source": [
    "### load data ###\n",
    "data = [{}] * npositions    \n",
    "for i in range(npositions): \n",
    "    data[i] = fcns.read_bloodflow_protocsv2(data_dict.get('dataname') + '/location_' + str(i+1) + '.csv')\n",
    "    data[i] = fcns.sortbycamera_proto2(data[i], data_dict['cids'], 2*data_dict['nt'])\n",
    "    data[i] = fcns.removedark2(data[i], data_dict)\n",
    "    data[i] = fcns.shotnoise(data[i], data_dict)\n",
    "    data_dict['nstart']=2  #crop data because 1st pt. different and\n",
    "    data_dict['nstop']=-2  #Octopus sometimes leaves out final data point\n",
    "    if ('nstart' in data_dict.keys()) or ('nstop' in data_dict.keys()):\n",
    "        data[i] = fcns.croptime_proto(data[i], data_dict)\n",
    "    #data[i] = fcns.getpulse(data[i], data_dict)\n",
    "    data[i]['completedscan'] = completedscan[i]\n",
    "    data[i]['nattempts'] = np.array([nattempts[i]])"
   ]
  },
  {
   "cell_type": "code",
   "execution_count": null,
   "metadata": {},
   "outputs": [],
   "source": [
    "### get rid of offsets ###\n",
    "data_dict['offset'] = 0 # 0: none, 1: ax+b, 2: svd with 1/x term\n",
    "data = fcns.removeOffsetAll(data, data_dict)"
   ]
  },
  {
   "cell_type": "code",
   "execution_count": null,
   "metadata": {},
   "outputs": [],
   "source": [
    "### pulse\n",
    "for i in range(npositions):\n",
    "    data[i] = fcns.getpulse(data[i], data_dict)\n",
    "    data[i] = fcns.highpass(data[i], data_dict)\n",
    "    data[i] = fcns.goldenpulse(data[i], data_dict, 'contrast')\n",
    "    data[i] = fcns.auc(data[i], -1, 'contrast')"
   ]
  },
  {
   "cell_type": "code",
   "execution_count": null,
   "metadata": {},
   "outputs": [],
   "source": [
    "### average data ###\n",
    "for i in range(npositions):\n",
    "    data[i]=fcns.averagetimeseries_proto(data[i])\n",
    "    data[i]=fcns.getridofzeros(data[i])\n",
    "    data[i] = fcns.amplitude(data[i], 'contrast')"
   ]
  },
  {
   "cell_type": "code",
   "execution_count": null,
   "metadata": {},
   "outputs": [],
   "source": [
    "### plot data before calibration ###\n",
    "\n",
    "# works best with '%matplotlib widget' set at top of notebook (displayedinteractive plots inline)\n",
    "fcns.plotscan_slider(data, data_dict, 'contrast')\n",
    "\n",
    "# Used for 'generic30' scanorder \n",
    "data_dict['groupNameList'] = ['Group1', 'Group2', 'Group3', 'Group4', 'Group5']\n",
    "# data_dict['legendNameList'] = ['Camera1', 'Camera2']\n",
    "\n",
    "#fcns.showAverageData(data, data_dict, 'pulse')\n",
    "#fcns.plotscandataintime(data, data_dict)\n",
    "#fcns.plotscandata(data, data_dict, 'mean')\n",
    "#fcns.plotscandata(data, data_dict, 'std')\n",
    "#fcns.plotscandata(data, data_dict, 'pcontrast')\n",
    "fcns.plotscandata(data, data_dict, 'contrast')\n",
    "#fcns.showAverageData(data, data_dict, 'mean_mean')\n",
    "fcns.showAverageData(data, data_dict, 'contrast_mean')\n",
    "#fcns.showResult(data, data_dict, 'nattempts')\n",
    "fcns.showAverageData(data, data_dict, 'modulationdepth')\n",
    "fcns.showAverageData(data, data_dict, 'amplitude')\n",
    "fcns.plottogether(data, data_dict, 'contrast_waveform', -1)\n",
    "fcns.showAverageData(data, data_dict, 'contrast_auc')\n",
    "fcns.showAverageData(data, data_dict, 'contrast_waveform_AmpOverStd_mean')"
   ]
  },
  {
   "cell_type": "code",
   "execution_count": null,
   "metadata": {},
   "outputs": [],
   "source": [
    "################################\n",
    "##### fit for parameter(s) #####\n",
    "################################"
   ]
  },
  {
   "cell_type": "code",
   "execution_count": null,
   "metadata": {},
   "outputs": [],
   "source": [
    "### attenuation ###\n",
    "\n",
    "### define independent variables\n",
    "c2u = params_dict.get('cameras2use')        \n",
    "p = np.squeeze(params_dict['rho'])[c2u]\n",
    "pp = np.linspace(np.amin(p), np.amax(p))\n",
    "pp2 = np.linspace(0, np.amax(p))\n",
    "exp = params_dict['exp']\n",
    "expp = np.array([params_dict['exp'][0]])\n",
    "\n",
    "### calibrate intensity ###\n",
    "ci = fcns.getIntensityCalibration(params_dict)\n",
    "for i in range(npositions):\n",
    "    data[i]['mean'] *= ci\n",
    "    data[i]['mean_mean'] *= ci\n",
    "    data[i]['std'] *= ci\n",
    "    data[i]['std_mean'] *= ci\n",
    "\n",
    "### find mu_eff & mua ###\n",
    "mean = np.zeros((npositions, len(c2u), 1))\n",
    "std = np.zeros((npositions, len(c2u), 1))\n",
    "for i in range(npositions):\n",
    "    mean[i, :, 0]  = data[i]['mean_mean'][c2u]\n",
    "    std[i, :, 0] = data[i]['std_mean'][c2u]\n",
    "mu_eff_mean, mua_mean   = fcns.fitattenuation(mean,  p, pp, params_dict['musp'], std, params_dict['displayfits'])\n",
    "for i in range(npositions):\n",
    "    data[i]['mu_eff_mean'] = mu_eff_mean[i]\n",
    "    data[i]['mua_mean'] = mua_mean[i]"
   ]
  },
  {
   "cell_type": "code",
   "execution_count": null,
   "metadata": {},
   "outputs": [],
   "source": [
    "### flow ###\n",
    "\n",
    "### define independent variables\n",
    "params_dict['C0']=data[0]['contrast_mean'] # relative BFI only\n",
    "params_dict['mua']=data[0]['mua_mean']\n",
    "#params_dict['cameras2use'] = np.array([0, 1, 2, 3]) #punting on 35 mm camera for now\n",
    "c2u = params_dict.get('cameras2use')\n",
    "p = np.squeeze(params_dict['rho'])[c2u]\n",
    "pp = np.linspace(np.amin(p), np.amax(p))\n",
    "pp2 = np.linspace(0, np.amax(p))\n",
    "\n",
    "### calibrate contrast ###\n",
    "cc = fcns.getContrastCalibration(params_dict) \n",
    "for i in range(npositions):   \n",
    "    data[i]['contrast'] *= cc\n",
    "    data[i]['contrast_mean'] *= cc\n",
    "\n",
    "### find alpha*Db ###\n",
    "contrast = np.zeros((npositions, len(c2u), 1))\n",
    "for i in range(npositions):\n",
    "    contrast[i, :, 0] = data[i]['contrast_mean'][c2u]\n",
    "alphaDb_mean, beta, offset    = fcns.fitflow_multi(params_dict, contrast,  p, pp2, exp, expp, mua_mean)  #using 1st mua\n",
    "for i in range(npositions):\n",
    "    data[i]['rCBF_mean'] = alphaDb_mean[i]"
   ]
  },
  {
   "cell_type": "code",
   "execution_count": null,
   "metadata": {},
   "outputs": [],
   "source": [
    "### plot fitted parameters ###\n",
    "fcns.showResult(data, data_dict, 'mua_mean')\n",
    "fcns.showResult(data, data_dict, 'rCBF_mean')"
   ]
  }
 ],
 "metadata": {
  "kernelspec": {
   "display_name": "Python 3",
   "language": "python",
   "name": "python3"
  },
  "language_info": {
   "codemirror_mode": {
    "name": "ipython",
    "version": 3
   },
   "file_extension": ".py",
   "mimetype": "text/x-python",
   "name": "python",
   "nbconvert_exporter": "python",
   "pygments_lexer": "ipython3",
   "version": "3.7.6"
  }
 },
 "nbformat": 4,
 "nbformat_minor": 2
}
