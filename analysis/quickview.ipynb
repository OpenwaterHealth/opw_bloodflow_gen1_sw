{
 "cells": [
  {
   "cell_type": "code",
   "execution_count": 1,
   "metadata": {},
   "outputs": [],
   "source": [
    "import speckle_fcns_v7 as fcns\n",
    "import matplotlib.pyplot as plt\n",
    "import os\n",
    "import re\n",
    "\n",
    "plt.close('all')"
   ]
  },
  {
   "cell_type": "code",
   "execution_count": 2,
   "metadata": {},
   "outputs": [],
   "source": [
    "### specify directory to seach for data (not needed for scanning computers) ###\n",
    "scannername = 'fessenden' #'franklin' #'strickland'\n",
    "datapath = 'S:/Fessenden' #'S:/Franklin' #'S:/Strickland'\n",
    "if os.getlogin().lower() == 'lab': \n",
    "    scannername = os.environ['COMPUTERNAME'].lower()\n",
    "    datapath = 'C:/data_scans/' + scannername"
   ]
  },
  {
   "cell_type": "code",
   "execution_count": 3,
   "metadata": {},
   "outputs": [],
   "source": [
    "### find most recent scan and preceeding calibration ###\n",
    "dirnames = os.listdir(datapath)\n",
    "for i in reversed(range(len(dirnames))):\n",
    "    temp = re.findall('scan', dirnames[i])\n",
    "    if temp:\n",
    "        scanname = dirnames[i]\n",
    "        break"
   ]
  },
  {
   "cell_type": "code",
   "execution_count": 4,
   "metadata": {},
   "outputs": [],
   "source": [
    "### find most recent acquisition ###\n",
    "scanpath = datapath + '/' + scanname\n",
    "locations = os.listdir(scanpath)\n",
    "ind = 0\n",
    "for i in reversed(range(len(locations))):\n",
    "    temp = re.findall('location_', locations[i])    \n",
    "    if temp:\n",
    "        temp2=re.findall('\\d+', locations[i])\n",
    "        ind = max(int(temp2[0]), ind)\n",
    "fname = 'location_' + str(ind) + '.csv'"
   ]
  },
  {
   "cell_type": "code",
   "execution_count": 5,
   "metadata": {},
   "outputs": [],
   "source": [
    "### read json file ###\n",
    "data_dict = {'dataname': scanpath, 'scannername': scannername, 'K': 0.12}\n",
    "params_dict= {'empty': 0}\n",
    "data_dict, params_dict = fcns.getjsoninfo(data_dict, params_dict)"
   ]
  },
  {
   "cell_type": "code",
   "execution_count": 6,
   "metadata": {},
   "outputs": [],
   "source": [
    "### read data ###    \n",
    "data = fcns.read_bloodflow_protocsv2(scanpath + '/' + fname)\n",
    "data = fcns.sortbycamera_proto2(data, data_dict['cids'], 2*data_dict['nt'])\n",
    "data = fcns.removedark2(data, data_dict)\n",
    "data = fcns.shotnoise(data, data_dict)\n",
    "data = fcns.getpulse(data, data_dict)"
   ]
  },
  {
   "cell_type": "code",
   "execution_count": 7,
   "metadata": {},
   "outputs": [],
   "source": [
    "### plot images ###\n",
    "%matplotlib qt\n",
    "fcns.plotlocation(data, data_dict, 'mean')\n",
    "fcns.plotlocation(data, data_dict, 'std')\n",
    "fcns.plotlocation(data, data_dict, 'contrast')"
   ]
  },
  {
   "cell_type": "code",
   "execution_count": 8,
   "metadata": {},
   "outputs": [
    {
     "name": "stdout",
     "output_type": "stream",
     "text": [
      "2021_04_22_18_17_59_scan\n",
      "location_2.csv\n"
     ]
    }
   ],
   "source": [
    "### print out the name of the file used    \n",
    "print(scanname)        \n",
    "print(fname)        "
   ]
  }
 ],
 "metadata": {
  "kernelspec": {
   "display_name": "Python 3",
   "language": "python",
   "name": "python3"
  },
  "language_info": {
   "codemirror_mode": {
    "name": "ipython",
    "version": 3
   },
   "file_extension": ".py",
   "mimetype": "text/x-python",
   "name": "python",
   "nbconvert_exporter": "python",
   "pygments_lexer": "ipython3",
   "version": "3.7.6"
  }
 },
 "nbformat": 4,
 "nbformat_minor": 2
}
